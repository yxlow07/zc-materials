{
 "cells": [
  {
   "cell_type": "code",
   "id": "initial_id",
   "metadata": {
    "collapsed": true,
    "ExecuteTime": {
     "end_time": "2025-09-16T05:32:53.051651Z",
     "start_time": "2025-09-16T05:32:52.960384Z"
    }
   },
   "source": "import numpy as np",
   "outputs": [],
   "execution_count": 1
  },
  {
   "metadata": {
    "ExecuteTime": {
     "end_time": "2025-09-16T05:33:08.725340Z",
     "start_time": "2025-09-16T05:33:08.721203Z"
    }
   },
   "cell_type": "code",
   "source": [
    "u = np.array([1, 2, 3])\n",
    "v = np.array([4, 5, 6])"
   ],
   "id": "13d96fa6050a7675",
   "outputs": [],
   "execution_count": 2
  },
  {
   "metadata": {
    "ExecuteTime": {
     "end_time": "2025-09-16T05:33:14.986125Z",
     "start_time": "2025-09-16T05:33:14.978739Z"
    }
   },
   "cell_type": "code",
   "source": "u * v # Element-wise multiplication",
   "id": "13254993c726825f",
   "outputs": [
    {
     "data": {
      "text/plain": [
       "array([ 4, 10, 18])"
      ]
     },
     "execution_count": 3,
     "metadata": {},
     "output_type": "execute_result"
    }
   ],
   "execution_count": 3
  },
  {
   "metadata": {
    "ExecuteTime": {
     "end_time": "2025-09-16T05:36:42.546024Z",
     "start_time": "2025-09-16T05:36:42.540002Z"
    }
   },
   "cell_type": "code",
   "source": "u.dot(v), np.sum(u*v) # Vector dot product",
   "id": "ba0b0270c56a8f05",
   "outputs": [
    {
     "data": {
      "text/plain": [
       "(np.int64(32), np.int64(32))"
      ]
     },
     "execution_count": 10,
     "metadata": {},
     "output_type": "execute_result"
    }
   ],
   "execution_count": 10
  },
  {
   "metadata": {
    "ExecuteTime": {
     "end_time": "2025-09-16T05:37:53.869663Z",
     "start_time": "2025-09-16T05:37:53.864665Z"
    }
   },
   "cell_type": "code",
   "source": [
    "U = np.array([\n",
    "    [1, 2, 3],\n",
    "    [4, 5, 6],\n",
    "    [7, 8, 9],\n",
    "    [10, 11, 12]\n",
    "])\n",
    "V = np.array([\n",
    "    [10, 11, 12, 13],\n",
    "    [14, 15, 16, 17],\n",
    "    [18, 19, 20, 21]\n",
    "])"
   ],
   "id": "716aff3bd9405df4",
   "outputs": [],
   "execution_count": 14
  },
  {
   "metadata": {
    "ExecuteTime": {
     "end_time": "2025-09-16T05:37:55.058702Z",
     "start_time": "2025-09-16T05:37:55.054701Z"
    }
   },
   "cell_type": "code",
   "source": "U.shape, V.shape",
   "id": "5593c2188bd13dc2",
   "outputs": [
    {
     "data": {
      "text/plain": [
       "((4, 3), (3, 4))"
      ]
     },
     "execution_count": 15,
     "metadata": {},
     "output_type": "execute_result"
    }
   ],
   "execution_count": 15
  },
  {
   "metadata": {
    "ExecuteTime": {
     "end_time": "2025-09-16T05:40:20.674377Z",
     "start_time": "2025-09-16T05:40:20.668467Z"
    }
   },
   "cell_type": "code",
   "source": [
    "# Matrix multiplication\n",
    "V.dot(U), U.dot(V), np.matmul(V, U), np.matmul(U, V), U @ V"
   ],
   "id": "ad224701db9f38aa",
   "outputs": [
    {
     "data": {
      "text/plain": [
       "(array([[268, 314, 360],\n",
       "        [356, 418, 480],\n",
       "        [444, 522, 600]]),\n",
       " array([[ 92,  98, 104, 110],\n",
       "        [218, 233, 248, 263],\n",
       "        [344, 368, 392, 416],\n",
       "        [470, 503, 536, 569]]),\n",
       " array([[268, 314, 360],\n",
       "        [356, 418, 480],\n",
       "        [444, 522, 600]]),\n",
       " array([[ 92,  98, 104, 110],\n",
       "        [218, 233, 248, 263],\n",
       "        [344, 368, 392, 416],\n",
       "        [470, 503, 536, 569]]),\n",
       " array([[ 92,  98, 104, 110],\n",
       "        [218, 233, 248, 263],\n",
       "        [344, 368, 392, 416],\n",
       "        [470, 503, 536, 569]]))"
      ]
     },
     "execution_count": 21,
     "metadata": {},
     "output_type": "execute_result"
    }
   ],
   "execution_count": 21
  },
  {
   "metadata": {
    "ExecuteTime": {
     "end_time": "2025-09-16T05:41:06.785476Z",
     "start_time": "2025-09-16T05:41:06.781254Z"
    }
   },
   "cell_type": "code",
   "source": [
    "I = np.eye(3) # Identity matrix\n",
    "I"
   ],
   "id": "f811f80a74e650fe",
   "outputs": [
    {
     "data": {
      "text/plain": [
       "array([[1., 0., 0.],\n",
       "       [0., 1., 0.],\n",
       "       [0., 0., 1.]])"
      ]
     },
     "execution_count": 23,
     "metadata": {},
     "output_type": "execute_result"
    }
   ],
   "execution_count": 23
  },
  {
   "metadata": {
    "ExecuteTime": {
     "end_time": "2025-09-16T05:43:15.880082Z",
     "start_time": "2025-09-16T05:43:15.876040Z"
    }
   },
   "cell_type": "code",
   "source": [
    "sq = np.array([[1, 2], [3, 4]])\n",
    "inv = np.linalg.inv(sq)\n",
    "inv"
   ],
   "id": "9a56f15c0ced9754",
   "outputs": [
    {
     "data": {
      "text/plain": [
       "array([[-2. ,  1. ],\n",
       "       [ 1.5, -0.5]])"
      ]
     },
     "execution_count": 26,
     "metadata": {},
     "output_type": "execute_result"
    }
   ],
   "execution_count": 26
  },
  {
   "metadata": {
    "ExecuteTime": {
     "end_time": "2025-09-16T05:43:32.557355Z",
     "start_time": "2025-09-16T05:43:32.553484Z"
    }
   },
   "cell_type": "code",
   "source": "sq.dot(inv) # Identity, not very close",
   "id": "827db7f4c51a87f1",
   "outputs": [
    {
     "data": {
      "text/plain": [
       "array([[1.0000000e+00, 0.0000000e+00],\n",
       "       [8.8817842e-16, 1.0000000e+00]])"
      ]
     },
     "execution_count": 28,
     "metadata": {},
     "output_type": "execute_result"
    }
   ],
   "execution_count": 28
  },
  {
   "metadata": {
    "ExecuteTime": {
     "end_time": "2025-09-16T05:45:03.001087Z",
     "start_time": "2025-09-16T05:45:02.995164Z"
    }
   },
   "cell_type": "code",
   "source": "np.allclose(sq.dot(inv), np.eye(2)) # Check with tolerance",
   "id": "f15abeeee5a299d7",
   "outputs": [
    {
     "data": {
      "text/plain": [
       "True"
      ]
     },
     "execution_count": 29,
     "metadata": {},
     "output_type": "execute_result"
    }
   ],
   "execution_count": 29
  }
 ],
 "metadata": {
  "kernelspec": {
   "display_name": "Python 3",
   "language": "python",
   "name": "python3"
  },
  "language_info": {
   "codemirror_mode": {
    "name": "ipython",
    "version": 2
   },
   "file_extension": ".py",
   "mimetype": "text/x-python",
   "name": "python",
   "nbconvert_exporter": "python",
   "pygments_lexer": "ipython2",
   "version": "2.7.6"
  }
 },
 "nbformat": 4,
 "nbformat_minor": 5
}

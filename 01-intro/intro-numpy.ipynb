{
 "cells": [
  {
   "cell_type": "code",
   "id": "initial_id",
   "metadata": {
    "collapsed": true,
    "ExecuteTime": {
     "end_time": "2025-09-16T04:54:45.039407Z",
     "start_time": "2025-09-16T04:54:44.928139Z"
    }
   },
   "source": "import numpy as np",
   "outputs": [],
   "execution_count": 1
  },
  {
   "metadata": {
    "ExecuteTime": {
     "end_time": "2025-09-16T04:54:48.029034Z",
     "start_time": "2025-09-16T04:54:48.020516Z"
    }
   },
   "cell_type": "code",
   "source": "np.__version__",
   "id": "24cd83a9ed9afc97",
   "outputs": [
    {
     "data": {
      "text/plain": [
       "'2.2.2'"
      ]
     },
     "execution_count": 2,
     "metadata": {},
     "output_type": "execute_result"
    }
   ],
   "execution_count": 2
  },
  {
   "metadata": {
    "ExecuteTime": {
     "end_time": "2025-09-16T04:56:51.110496Z",
     "start_time": "2025-09-16T04:56:51.099440Z"
    }
   },
   "cell_type": "code",
   "source": "np.zeros(10)",
   "id": "5267b50d3aa28e29",
   "outputs": [
    {
     "data": {
      "text/plain": [
       "array([0., 0., 0., 0., 0., 0., 0., 0., 0., 0.])"
      ]
     },
     "execution_count": 3,
     "metadata": {},
     "output_type": "execute_result"
    }
   ],
   "execution_count": 3
  },
  {
   "metadata": {
    "ExecuteTime": {
     "end_time": "2025-09-16T04:57:21.174971Z",
     "start_time": "2025-09-16T04:57:21.168770Z"
    }
   },
   "cell_type": "code",
   "source": "np.zeros_like(np.array([1, 2, 3]))",
   "id": "ff1765c6d753dd5b",
   "outputs": [
    {
     "data": {
      "text/plain": [
       "array([0, 0, 0])"
      ]
     },
     "execution_count": 6,
     "metadata": {},
     "output_type": "execute_result"
    }
   ],
   "execution_count": 6
  },
  {
   "metadata": {
    "ExecuteTime": {
     "end_time": "2025-09-16T04:57:52.891188Z",
     "start_time": "2025-09-16T04:57:52.885312Z"
    }
   },
   "cell_type": "code",
   "source": "np.full((2, 3), 10)",
   "id": "46b60f76d4167315",
   "outputs": [
    {
     "data": {
      "text/plain": [
       "array([[10, 10, 10],\n",
       "       [10, 10, 10]])"
      ]
     },
     "execution_count": 7,
     "metadata": {},
     "output_type": "execute_result"
    }
   ],
   "execution_count": 7
  },
  {
   "metadata": {
    "ExecuteTime": {
     "end_time": "2025-09-16T04:58:38.066172Z",
     "start_time": "2025-09-16T04:58:38.059761Z"
    }
   },
   "cell_type": "code",
   "source": "np.arange(10)",
   "id": "7f78c4d406ac7295",
   "outputs": [
    {
     "data": {
      "text/plain": [
       "array([0, 1, 2, 3, 4, 5, 6, 7, 8, 9])"
      ]
     },
     "execution_count": 8,
     "metadata": {},
     "output_type": "execute_result"
    }
   ],
   "execution_count": 8
  },
  {
   "metadata": {
    "ExecuteTime": {
     "end_time": "2025-09-16T04:59:27.045701Z",
     "start_time": "2025-09-16T04:59:27.041514Z"
    }
   },
   "cell_type": "code",
   "source": "np.linspace(0, 1, 11) # Inclusive of 2 ends",
   "id": "a40d509524d5e1f8",
   "outputs": [
    {
     "data": {
      "text/plain": [
       "array([0. , 0.1, 0.2, 0.3, 0.4, 0.5, 0.6, 0.7, 0.8, 0.9, 1. ])"
      ]
     },
     "execution_count": 10,
     "metadata": {},
     "output_type": "execute_result"
    }
   ],
   "execution_count": 10
  },
  {
   "metadata": {
    "ExecuteTime": {
     "end_time": "2025-09-16T05:27:24.305957Z",
     "start_time": "2025-09-16T05:27:24.301008Z"
    }
   },
   "cell_type": "code",
   "source": [
    "n = np.array([\n",
    "    [1, 2, 3],\n",
    "    [4, 5, 6],\n",
    "    [7, 8, 9]\n",
    "])\n",
    "print(n[1, 2], n[1][2])\n",
    "\n",
    "n[0, 0] = 10\n",
    "print(n)\n",
    "\n",
    "n[1] = 20\n",
    "print(n)\n",
    "\n",
    "n[:, 0] = 30\n",
    "print(n)"
   ],
   "id": "8b62c2102a9eabbb",
   "outputs": [
    {
     "name": "stdout",
     "output_type": "stream",
     "text": [
      "6 6\n",
      "[[10  2  3]\n",
      " [ 4  5  6]\n",
      " [ 7  8  9]]\n",
      "[[10  2  3]\n",
      " [20 20 20]\n",
      " [ 7  8  9]]\n",
      "[[30  2  3]\n",
      " [30 20 20]\n",
      " [30  8  9]]\n"
     ]
    }
   ],
   "execution_count": 12
  },
  {
   "metadata": {
    "ExecuteTime": {
     "end_time": "2025-09-16T05:28:36.764887Z",
     "start_time": "2025-09-16T05:28:36.758113Z"
    }
   },
   "cell_type": "code",
   "source": "np.random.rand(3, 3)",
   "id": "6c6dae6db593a978",
   "outputs": [
    {
     "data": {
      "text/plain": [
       "array([[0.80134412, 0.74155448, 0.87548093],\n",
       "       [0.45019205, 0.98105457, 0.82879365],\n",
       "       [0.92101919, 0.92603044, 0.33423942]])"
      ]
     },
     "execution_count": 14,
     "metadata": {},
     "output_type": "execute_result"
    }
   ],
   "execution_count": 14
  },
  {
   "metadata": {
    "ExecuteTime": {
     "end_time": "2025-09-16T05:31:52.465809Z",
     "start_time": "2025-09-16T05:31:52.461851Z"
    }
   },
   "cell_type": "code",
   "source": "n.mean()",
   "id": "5819bdcc37fa6c83",
   "outputs": [
    {
     "data": {
      "text/plain": [
       "np.float64(16.88888888888889)"
      ]
     },
     "execution_count": 15,
     "metadata": {},
     "output_type": "execute_result"
    }
   ],
   "execution_count": 15
  },
  {
   "metadata": {
    "ExecuteTime": {
     "end_time": "2025-09-16T05:31:58.446418Z",
     "start_time": "2025-09-16T05:31:58.441539Z"
    }
   },
   "cell_type": "code",
   "source": "n.std()",
   "id": "46aaa197429c9850",
   "outputs": [
    {
     "data": {
      "text/plain": [
       "np.float64(11.009535709702288)"
      ]
     },
     "execution_count": 16,
     "metadata": {},
     "output_type": "execute_result"
    }
   ],
   "execution_count": 16
  },
  {
   "metadata": {
    "ExecuteTime": {
     "end_time": "2025-09-16T05:32:14.302811Z",
     "start_time": "2025-09-16T05:32:14.298814Z"
    }
   },
   "cell_type": "code",
   "source": "n.min()",
   "id": "a21947b979937564",
   "outputs": [
    {
     "data": {
      "text/plain": [
       "np.int64(2)"
      ]
     },
     "execution_count": 17,
     "metadata": {},
     "output_type": "execute_result"
    }
   ],
   "execution_count": 17
  }
 ],
 "metadata": {
  "kernelspec": {
   "display_name": "Python 3",
   "language": "python",
   "name": "python3"
  },
  "language_info": {
   "codemirror_mode": {
    "name": "ipython",
    "version": 2
   },
   "file_extension": ".py",
   "mimetype": "text/x-python",
   "name": "python",
   "nbconvert_exporter": "python",
   "pygments_lexer": "ipython2",
   "version": "2.7.6"
  }
 },
 "nbformat": 4,
 "nbformat_minor": 5
}
